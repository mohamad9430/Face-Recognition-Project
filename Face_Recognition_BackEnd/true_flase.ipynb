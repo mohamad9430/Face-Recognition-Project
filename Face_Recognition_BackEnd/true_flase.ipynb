{
 "cells": [
  {
   "cell_type": "code",
   "outputs": [],
   "source": [
    "import sqlite3\n",
    "\n",
    "def convert_to_bool(value):\n",
    "    return 1 if value.lower() == 'true' else 0\n",
    "\n",
    "conn = sqlite3.connect(r\"C:\\Users\\admin\\Desktop\\t3.db\")\n",
    "cursor = conn.cursor()\n",
    "\n",
    "upload_input = input(\"Upload (true/false): \")\n",
    "detection_input = input(\"Detection (true/false): \")\n",
    "\n",
    "upload = convert_to_bool(upload_input)\n",
    "detection = convert_to_bool(detection_input)\n",
    "\n",
    "cursor.execute('''INSERT INTO con_test (upload, detection) VALUES (?, ?)''', (upload, detection))\n",
    "\n",
    "conn.commit()\n",
    "conn.close()\n"
   ],
   "metadata": {
    "collapsed": false,
    "ExecuteTime": {
     "end_time": "2024-04-08T08:36:36.556834Z",
     "start_time": "2024-04-08T08:36:31.757751Z"
    }
   },
   "id": "6cc5bb68d4d9fb07",
   "execution_count": 11
  },
  {
   "cell_type": "code",
   "outputs": [
    {
     "name": "stdout",
     "output_type": "stream",
     "text": [
      "The boolean value for employee ahmad2 is: False\n"
     ]
    }
   ],
   "source": [
    "import sqlite3\n",
    "\n",
    "def get_boolean_value(employee_id):\n",
    "    conn = sqlite3.connect(r\"C:\\Users\\admin\\Desktop\\t3.db\")\n",
    "    cursor = conn.cursor()\n",
    "\n",
    "    # Execute a query to retrieve the boolean value for the specified employee ID\n",
    "    cursor.execute(\"SELECT upload FROM users WHERE admin_username = ?\", (employee_id,))\n",
    "    row = cursor.fetchone()\n",
    "\n",
    "    # Check if a row was found\n",
    "    if row:\n",
    "        # Convert the retrieved value to a boolean value\n",
    "        boolean_value = bool(row[0])\n",
    "\n",
    "        # Close the cursor and connection\n",
    "        cursor.close()\n",
    "        conn.close()\n",
    "\n",
    "        # Return the boolean value\n",
    "        return boolean_value\n",
    "    else:\n",
    "        # Close the cursor and connection\n",
    "        cursor.close()\n",
    "        conn.close()\n",
    "\n",
    "        # Return None if the employee ID was not found\n",
    "        return None\n",
    "\n",
    "if __name__ == '__main__':\n",
    "    employee_id = \"ahmad2\"  # Specify the employee ID here\n",
    "    boolean_value = get_boolean_value(employee_id)\n",
    "    if boolean_value is not None:\n",
    "        print(f\"The boolean value for employee {employee_id} is: {boolean_value}\")\n",
    "    else:\n",
    "        print(f\"Employee with ID {employee_id} not found.\")\n"
   ],
   "metadata": {
    "collapsed": false,
    "ExecuteTime": {
     "end_time": "2024-04-09T07:01:48.695491Z",
     "start_time": "2024-04-09T07:01:48.684183Z"
    }
   },
   "id": "79300ba0edae04b2",
   "execution_count": 17
  },
  {
   "cell_type": "code",
   "outputs": [
    {
     "name": "stdout",
     "output_type": "stream",
     "text": [
      " * Serving Flask app '__main__'\n",
      " * Debug mode: on\n"
     ]
    },
    {
     "name": "stderr",
     "output_type": "stream",
     "text": [
      "WARNING: This is a development server. Do not use it in a production deployment. Use a production WSGI server instead.\n",
      " * Running on http://127.0.0.1:5000\n",
      "Press CTRL+C to quit\n",
      " * Restarting with stat\n"
     ]
    },
    {
     "ename": "SystemExit",
     "evalue": "1",
     "output_type": "error",
     "traceback": [
      "An exception has occurred, use %tb to see the full traceback.\n",
      "\u001B[1;31mSystemExit\u001B[0m\u001B[1;31m:\u001B[0m 1\n"
     ]
    },
    {
     "name": "stderr",
     "output_type": "stream",
     "text": [
      "C:\\Users\\admin\\PycharmProjects\\t_face_recognnition2\\.venv\\Lib\\site-packages\\IPython\\core\\interactiveshell.py:3585: UserWarning: To exit: use 'exit', 'quit', or Ctrl-D.\n",
      "  warn(\"To exit: use 'exit', 'quit', or Ctrl-D.\", stacklevel=1)\n"
     ]
    }
   ],
   "source": [
    "from flask import Flask, jsonify\n",
    "import sqlite3\n",
    "\n",
    "app = Flask(__name__)\n",
    "\n",
    "# Endpoint to retrieve a boolean value for a specific employee\n",
    "@app.route('/test', methods=['GET'])\n",
    "def get_boolean_value(employee_id):\n",
    "    conn = sqlite3.connect(r\"C:\\Users\\admin\\Desktop\\t3.db\")\n",
    "    cursor = conn.cursor()\n",
    "    employee_id = \"ahmad2\"\n",
    "    # Execute a query to retrieve the boolean value for the specified employee ID\n",
    "    cursor.execute(\"SELECT upload FROM users WHERE admin_username = ?\", (employee_id,))\n",
    "    row = cursor.fetchone()\n",
    "    # Check if a row was found\n",
    "    if row:\n",
    "        # Convert the retrieved value to a boolean value\n",
    "        boolean_value = bool(row[0])\n",
    "        \n",
    "        # Close the cursor and connection\n",
    "        cursor.close()\n",
    "        conn.close()\n",
    "\n",
    "        # Return the boolean value in JSON format\n",
    "        return jsonify({'employee_id': employee_id, 'is_hr': boolean_value})\n",
    "    else:\n",
    "        # Close the cursor and connection\n",
    "        cursor.close()\n",
    "        conn.close()\n",
    "\n",
    "        # Return a 404 error if the employee ID was not found\n",
    "        return jsonify({'error': 'Employee not found'}), 404\n",
    "\n",
    "if __name__ == '__main__':\n",
    "    app.run(debug=True)\n"
   ],
   "metadata": {
    "collapsed": false,
    "ExecuteTime": {
     "end_time": "2024-04-09T07:04:52.172783Z",
     "start_time": "2024-04-09T07:04:48.549930Z"
    }
   },
   "id": "9e3855a4850d8d4f",
   "execution_count": 18
  },
  {
   "cell_type": "code",
   "outputs": [],
   "source": [],
   "metadata": {
    "collapsed": false
   },
   "id": "fb28b21dc2bc0f27"
  }
 ],
 "metadata": {
  "kernelspec": {
   "display_name": "Python 3",
   "language": "python",
   "name": "python3"
  },
  "language_info": {
   "codemirror_mode": {
    "name": "ipython",
    "version": 2
   },
   "file_extension": ".py",
   "mimetype": "text/x-python",
   "name": "python",
   "nbconvert_exporter": "python",
   "pygments_lexer": "ipython2",
   "version": "2.7.6"
  }
 },
 "nbformat": 4,
 "nbformat_minor": 5
}
